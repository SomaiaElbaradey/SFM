{
 "cells": [
  {
   "cell_type": "code",
   "execution_count": null,
   "id": "099eed9a",
   "metadata": {},
   "outputs": [],
   "source": [
    "import open3d as o3d\n",
    "\n",
    "# Load the generated point cloud\n",
    "pcd = o3d.io.read_point_cloud(\"output_point_cloud.ply\")\n",
    "\n",
    "# Check if point cloud loaded correctly\n",
    "if pcd.is_empty():\n",
    "    print(\"Point cloud file is empty or failed to load.\")\n",
    "else:\n",
    "    print(\"Successfully loaded point cloud.\")\n",
    "    # Visualize the point cloud\n",
    "    o3d.visualization.draw_geometries([pcd], window_name=\"Reconstructed Point Cloud\")\n"
   ]
  }
 ],
 "metadata": {
  "kernelspec": {
   "display_name": "base",
   "language": "python",
   "name": "python3"
  },
  "language_info": {
   "name": "python",
   "version": "3.12.7"
  }
 },
 "nbformat": 4,
 "nbformat_minor": 5
}
